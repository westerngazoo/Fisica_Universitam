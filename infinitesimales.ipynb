{
 "cells": [
  {
   "cell_type": "markdown",
   "id": "beaf8e8c-6fe4-4d14-b4ae-120cfd661cd5",
   "metadata": {},
   "source": [
    "# Tema 2.4: Infinitesimales y sus Propiedades Básicas\n",
    "\n",
    "---\n",
    "\n",
    "Los **infinitesimales** son cantidades que tienden a ser extremadamente pequeñas, pero que no llegan a ser exactamente cero. Estos valores son fundamentales en el análisis matemático y el cálculo.\n",
    "\n",
    "Por ejemplo, la cantidad $( \\frac{1}{n} )$, donde $( n \\to \\infty )$, se aproxima a un valor infinitesimal.\n",
    "\n",
    "---\n",
    "\n",
    "### Propiedades de los Infinitesimales:\n",
    "\n",
    "1. **Suma de infinitesimales**: Si \\( a \\) y \\( b \\) son infinitesimales, su suma también lo es.\n",
    "   \n",
    "   $$ a + b \\to 0 $$\n",
    "\n",
    "2. **Multiplicación de infinitesimales**: El producto de dos infinitesimales es un infinitesimal.\n",
    "\n",
    "3. **Producto de un número finito por un infinitesimal**: El producto de un número finito por un infinitesimal sigue siendo infinitesimal.\n"
   ]
  },
  {
   "cell_type": "code",
   "execution_count": 1,
   "id": "ecfa1160-84d3-463f-b52a-7b215332a635",
   "metadata": {},
   "outputs": [
    {
     "name": "stdout",
     "output_type": "stream",
     "text": [
      "Valor infinitesimal: 1e-10\n"
     ]
    }
   ],
   "source": [
    "import numpy as np\n",
    "\n",
    "# Aproximación de un infinitesimal\n",
    "n = 1e10\n",
    "infinitesimal = 1/n\n",
    "print(f\"Valor infinitesimal: {infinitesimal}\")"
   ]
  },
  {
   "cell_type": "code",
   "execution_count": null,
   "id": "6096ae16-e01f-420a-b0ab-53120fcfedd1",
   "metadata": {},
   "outputs": [],
   "source": []
  }
 ],
 "metadata": {
  "kernelspec": {
   "display_name": "Python 3 (ipykernel)",
   "language": "python",
   "name": "python3"
  },
  "language_info": {
   "codemirror_mode": {
    "name": "ipython",
    "version": 3
   },
   "file_extension": ".py",
   "mimetype": "text/x-python",
   "name": "python",
   "nbconvert_exporter": "python",
   "pygments_lexer": "ipython3",
   "version": "3.10.12"
  }
 },
 "nbformat": 4,
 "nbformat_minor": 5
}
