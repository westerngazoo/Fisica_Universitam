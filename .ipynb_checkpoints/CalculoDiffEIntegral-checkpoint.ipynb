{
 "cells": [
  {
   "cell_type": "markdown",
   "id": "4c732791-424c-4ffd-9c63-0696a9a667c7",
   "metadata": {},
   "source": [
    "# Cálculo Diferencial e Integral - Parte 1: Derivadas y Conceptos Básicos\n"
   ]
  },
  {
   "cell_type": "code",
   "execution_count": null,
   "id": "0b34c929-bec1-41ed-8c6f-fc0a0a625f04",
   "metadata": {},
   "outputs": [],
   "source": []
  }
 ],
 "metadata": {
  "kernelspec": {
   "display_name": "Python 3 (ipykernel)",
   "language": "python",
   "name": "python3"
  },
  "language_info": {
   "codemirror_mode": {
    "name": "ipython",
    "version": 3
   },
   "file_extension": ".py",
   "mimetype": "text/x-python",
   "name": "python",
   "nbconvert_exporter": "python",
   "pygments_lexer": "ipython3",
   "version": "3.10.12"
  }
 },
 "nbformat": 4,
 "nbformat_minor": 5
}
