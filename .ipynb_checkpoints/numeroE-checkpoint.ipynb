{
 "cells": [
  {
   "cell_type": "markdown",
   "id": "402cca15-a76e-427d-b4ac-7ed6c5ce380c",
   "metadata": {},
   "source": [
    "# 2.0 El número $e$\n",
    "\n",
    "El número $e$ es una constante matemática que tiene un valor aproximado de $2.71828$. Es la base de los logaritmos naturales y tiene propiedades muy importantes en cálculo, especialmente en el cálculo de derivadas e integrales.\n",
    "\n",
    "## Definición de $e$\n",
    "\n",
    "El número $e$ se puede definir de varias maneras. Una de las más comunes es a través del límite:\n",
    "\n",
    "$$\n",
    "e = \\lim_{{n \\to \\infty}} \\left( 1 + \\frac{1}{n} \\right)^n\n",
    "$$\n",
    "\n",
    "Esto muestra cómo $e$ se puede aproximar mediante una sucesión.\n",
    "\n",
    "## Propiedades del número $e$\n",
    "\n",
    "1. **Función Exponencial**: La función $e^x$ es única porque su derivada es igual a la misma función. Es decir:\n",
    "   $$\n",
    "   \\frac{d}{dx} e^x = e^x\n",
    "   $$\n",
    "\n",
    "2. **Logaritmos Naturales**: El logaritmo natural de $e$ es igual a 1:\n",
    "   $$\n",
    "   \\ln(e) = 1\n",
    "   $$\n",
    "\n",
    "3. **Series de Taylor**: $e$ también se puede expresar como una serie infinita:\n",
    "   $$\n",
    "   e = \\sum_{{n=0}}^{\\infty} \\frac{1}{n!} = 1 + \\frac{1}{1!} + \\frac{1}{2!} + \\frac{1}{3!} + \\ldots\n",
    "   $$\n",
    "\n",
    "---\n",
    "\n",
    "### Ejemplo en Python para calcular $e$:\n",
    "\n",
    "Vamos a usar Python para calcular el valor de $e$ usando la definición de la serie infinita y el límite.\n",
    "\n",
    "```python\n"
   ]
  },
  {
   "cell_type": "code",
   "execution_count": 3,
   "id": "f0b5bff2-dade-4487-8772-e72c49ffa252",
   "metadata": {},
   "outputs": [
    {
     "name": "stdout",
     "output_type": "stream",
     "text": [
      "El valor de e es aproximadamente: 2.71828182845905\n"
     ]
    }
   ],
   "source": [
    "import sympy as sp\n",
    "\n",
    "# Definir n como un entero positivo\n",
    "n = sp.symbols('n', positive=True)\n",
    "\n",
    "# Definir la serie para calcular e\n",
    "serie = sp.Sum(1 / sp.factorial(n), (n, 0, sp.oo))\n",
    "\n",
    "# Evaluar la serie\n",
    "valor_e = serie.doit()\n",
    "\n",
    "# Mostrar el resultado\n",
    "print(\"El valor de e es aproximadamente:\", valor_e.evalf())\n"
   ]
  },
  {
   "cell_type": "code",
   "execution_count": null,
   "id": "f0ad9e39-801b-4f33-858a-11780893587b",
   "metadata": {},
   "outputs": [],
   "source": []
  }
 ],
 "metadata": {
  "kernelspec": {
   "display_name": "Python 3 (ipykernel)",
   "language": "python",
   "name": "python3"
  },
  "language_info": {
   "codemirror_mode": {
    "name": "ipython",
    "version": 3
   },
   "file_extension": ".py",
   "mimetype": "text/x-python",
   "name": "python",
   "nbconvert_exporter": "python",
   "pygments_lexer": "ipython3",
   "version": "3.10.12"
  }
 },
 "nbformat": 4,
 "nbformat_minor": 5
}
