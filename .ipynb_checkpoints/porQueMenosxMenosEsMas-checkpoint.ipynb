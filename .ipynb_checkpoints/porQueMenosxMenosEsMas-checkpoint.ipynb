{
 "cells": [
  {
   "cell_type": "markdown",
   "id": "3633b8fe-ca4b-461e-8007-2e45db3ae946",
   "metadata": {},
   "source": [
    "# Por qué menos por menos es más\n",
    "(En alabanza de la distribución, Parte 3)\n",
    "\n",
    "\"Menos por menos es más.  \n",
    "Las razones para esto no necesitamos discutir.\"  \n",
    "– Sra. Anónima\n",
    "\n",
    "La mayoría de las reglas para trabajar con negativos son fáciles de entender si pensamos en términos de débitos y créditos. Es obvio por qué $(-1)(1)$ debería ser $-1$: Un débito de $1$ incurrido una vez es obviamente un débito de $1$. Del mismo modo, es obvio por qué $-1 + 1 = 0$: Sumar un crédito de $1$ a un débito de $1$ resulta en un valor neto de $0$.\n",
    "\n",
    "Pero, ¿por qué debería ser $(-1)(-1) = 1$? Existe una justificación de \"débito y crédito\", pero no es muy buena.*\n",
    "\n",
    "Un argumento mucho mejor – y ciertamente un argumento más artístico – se basa en la propiedad distributiva.\n",
    "\n",
    "**Reclamo 1.** $(-1)(-1) = 1$.\n",
    "\n",
    "**Prueba.** Comenzaremos la prueba de manera casi divina, creando algo de la nada.  \n",
    "$0 = (-1)(0) = (-1)(-1 + 1) = (-1)(-1) + (-1)(1) = (-1)(-1) - 1$.  \n",
    "\n",
    "Hemos establecido que $0 = (-1)(-1) - 1$. Por lo tanto, sea lo que sea que $(-1)(-1)$ sea, hemos deducido que restar $1$ de él nos deja con cero. Obviamente, el único número con esa propiedad es $1$, así que se sigue que $(-1)(-1) = 1$, como se reclamó. ■\n",
    "\n",
    "Dado que cada número negativo se puede escribir como $(-1)$ multiplicado por un número positivo, vemos que, por ejemplo,  \n",
    "$(-2)(-3) = (-1)(2)(-1)(3) = (2)(3)(-1)(-1) = (2)(3)$,  \n",
    "donde ese último signo igual está justificado por el Reclamo 1.\n",
    "\n",
    "Y si deseamos escribir una prueba formal que cubra el producto de dos negativos, podríamos hacerlo de la siguiente manera.\n",
    "\n",
    "**Reclamo 2.** (Menos por menos siempre es más.) $(-a)(-b) = ab$ para cualquier $a$ y $b$.\n",
    "\n",
    "**Prueba.** Deje que $-a$ y $-b$ representen cualquier par de números negativos. Entonces  \n",
    "$(-a)(-b) = (-1)(a)(-1)(b) = ab(-1)(-1) = ab$.  \n",
    "El último signo igual está justificado por el Reclamo 1. ■\n",
    "\n",
    "¡Felicidades! Ahora estás entre las pocas personas que saben por qué menos por menos es más.\n",
    "\n",
    "Para este momento, confío en que te haya convencido de la importancia fundamental de la propiedad distributiva, que, entre otras cosas, nos permite hacer cálculos mentales rápidos, explica por qué podemos multiplicar y factorizar polinomios, y nos ayuda a entender por qué menos por menos es más. No me detendré más en ello. Siempre estará ahí, funcionando suavemente en segundo plano.\n",
    "\n",
    "Parte del proceso de aprender a pensar matemáticamente es desarrollar una apreciación por cómo incluso las ideas matemáticas simples pueden tener enormes ramificaciones lógicas. Tendrás otra oportunidad pronto, cuando dirijamos nuestra atención a las fracciones.\n",
    "\n",
    "Pero primero, algunos ejercicios.\n"
   ]
  },
  {
   "cell_type": "code",
   "execution_count": null,
   "id": "763f4877-3f2a-4040-9753-cc66b1353c94",
   "metadata": {},
   "outputs": [],
   "source": []
  }
 ],
 "metadata": {
  "kernelspec": {
   "display_name": "Python 3 (ipykernel)",
   "language": "python",
   "name": "python3"
  },
  "language_info": {
   "codemirror_mode": {
    "name": "ipython",
    "version": 3
   },
   "file_extension": ".py",
   "mimetype": "text/x-python",
   "name": "python",
   "nbconvert_exporter": "python",
   "pygments_lexer": "ipython3",
   "version": "3.10.12"
  }
 },
 "nbformat": 4,
 "nbformat_minor": 5
}
