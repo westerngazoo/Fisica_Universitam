{
 "cells": [
  {
   "cell_type": "markdown",
   "id": "c2b64f54-3873-4e8c-8b01-a9f4c90fcd4a",
   "metadata": {},
   "source": [
    "# Tema 2.5: Teoremas Básicos sobre los Límites\n",
    "\n",
    "---\n",
    "\n",
    "Los límites obedecen a una serie de propiedades o teoremas fundamentales que nos ayudan a calcularlos de manera sencilla. Algunas de las más importantes son:\n",
    "\n",
    "1. **Límite de la suma**: El límite de la suma de dos funciones es la suma de sus límites:\n",
    "\n",
    "   $$ \\lim_{{x \\to a}} [f(x) + g(x)] = \\lim_{{x \\to a}} f(x) + \\lim_{{x \\to a}} g(x) $$\n",
    "\n",
    "2. **Límite del producto**: El límite del producto de dos funciones es el producto de sus límites:\n",
    "\n",
    "   $$ \\lim_{{x \\to a}} [f(x) \\cdot g(x)] = \\lim_{{x \\to a}} f(x) \\cdot \\lim_{{x \\to a}} g(x) $$\n",
    "\n",
    "3. **Límite del cociente**: El límite del cociente de dos funciones es el cociente de sus límites, siempre que el denominador no se haga cero:\n",
    "\n",
    "   $$ \\lim_{{x \\to a}} \\frac{f(x)}{g(x)} = \\frac{\\lim_{{x \\to a}} f(x)}{\\lim_{{x \\to a}} g(x)} $$\n",
    "\n",
    "---\n",
    "\n"
   ]
  },
  {
   "cell_type": "code",
   "execution_count": null,
   "id": "95818210-66a5-4c40-a6a9-481a74a996a1",
   "metadata": {},
   "outputs": [],
   "source": []
  }
 ],
 "metadata": {
  "kernelspec": {
   "display_name": "Python 3 (ipykernel)",
   "language": "python",
   "name": "python3"
  },
  "language_info": {
   "codemirror_mode": {
    "name": "ipython",
    "version": 3
   },
   "file_extension": ".py",
   "mimetype": "text/x-python",
   "name": "python",
   "nbconvert_exporter": "python",
   "pygments_lexer": "ipython3",
   "version": "3.10.12"
  }
 },
 "nbformat": 4,
 "nbformat_minor": 5
}
